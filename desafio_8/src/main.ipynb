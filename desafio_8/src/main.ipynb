{
 "cells": [
  {
   "cell_type": "code",
   "execution_count": 1,
   "metadata": {},
   "outputs": [],
   "source": [
    "import pandas as pd\n",
    "import matplotlib.pyplot as plt\n",
    "import numpy as np\n",
    "import seaborn as sns\n",
    "from sklearn.preprocessing import LabelEncoder\n",
    "from imblearn.under_sampling import RandomUnderSampler\n",
    "from sklearn.model_selection import train_test_split, GridSearchCV\n",
    "from sklearn.ensemble import RandomForestClassifier\n",
    "from sklearn.metrics import accuracy_score, precision_score, recall_score, f1_score"
   ]
  },
  {
   "cell_type": "markdown",
   "metadata": {},
   "source": [
    "# Desáfio métricas"
   ]
  },
  {
   "cell_type": "markdown",
   "metadata": {},
   "source": [
    "## Loans Dataset"
   ]
  },
  {
   "cell_type": "markdown",
   "metadata": {},
   "source": [
    "### Carregar os dados"
   ]
  },
  {
   "cell_type": "code",
   "execution_count": 2,
   "metadata": {},
   "outputs": [
    {
     "data": {
      "text/html": [
       "<div>\n",
       "<style scoped>\n",
       "    .dataframe tbody tr th:only-of-type {\n",
       "        vertical-align: middle;\n",
       "    }\n",
       "\n",
       "    .dataframe tbody tr th {\n",
       "        vertical-align: top;\n",
       "    }\n",
       "\n",
       "    .dataframe thead th {\n",
       "        text-align: right;\n",
       "    }\n",
       "</style>\n",
       "<table border=\"1\" class=\"dataframe\">\n",
       "  <thead>\n",
       "    <tr style=\"text-align: right;\">\n",
       "      <th></th>\n",
       "      <th>issue_d</th>\n",
       "      <th>sub_grade</th>\n",
       "      <th>term</th>\n",
       "      <th>home_ownership</th>\n",
       "      <th>fico_range_low</th>\n",
       "      <th>total_acc</th>\n",
       "      <th>pub_rec</th>\n",
       "      <th>revol_util</th>\n",
       "      <th>annual_inc</th>\n",
       "      <th>int_rate</th>\n",
       "      <th>...</th>\n",
       "      <th>pub_rec_bankruptcies</th>\n",
       "      <th>addr_state</th>\n",
       "      <th>initial_list_status</th>\n",
       "      <th>fico_range_high</th>\n",
       "      <th>revol_bal</th>\n",
       "      <th>open_acc</th>\n",
       "      <th>emp_length</th>\n",
       "      <th>loan_status</th>\n",
       "      <th>time_to_earliest_cr_line</th>\n",
       "      <th>loan_status_numeric</th>\n",
       "    </tr>\n",
       "  </thead>\n",
       "  <tbody>\n",
       "    <tr>\n",
       "      <th>0</th>\n",
       "      <td>2016-07-012014-01-01</td>\n",
       "      <td>A4D1</td>\n",
       "      <td>36 months 60 months</td>\n",
       "      <td>MORTGAGEMORTGAGE</td>\n",
       "      <td>1490.0</td>\n",
       "      <td>31.0</td>\n",
       "      <td>0.0</td>\n",
       "      <td>98.8</td>\n",
       "      <td>146122.0</td>\n",
       "      <td>24.98</td>\n",
       "      <td>...</td>\n",
       "      <td>0.0</td>\n",
       "      <td>TXAR</td>\n",
       "      <td>wf</td>\n",
       "      <td>1498.0</td>\n",
       "      <td>21530.0</td>\n",
       "      <td>16.0</td>\n",
       "      <td>13.0</td>\n",
       "      <td>2.0</td>\n",
       "      <td>1267660.8</td>\n",
       "      <td>2</td>\n",
       "    </tr>\n",
       "    <tr>\n",
       "      <th>1</th>\n",
       "      <td>2016-07-012014-01-01</td>\n",
       "      <td>B5C4</td>\n",
       "      <td>36 months 60 months</td>\n",
       "      <td>RENTMORTGAGE</td>\n",
       "      <td>1400.0</td>\n",
       "      <td>51.0</td>\n",
       "      <td>0.0</td>\n",
       "      <td>162.9</td>\n",
       "      <td>127000.0</td>\n",
       "      <td>27.10</td>\n",
       "      <td>...</td>\n",
       "      <td>0.0</td>\n",
       "      <td>CAVT</td>\n",
       "      <td>wf</td>\n",
       "      <td>1408.0</td>\n",
       "      <td>13669.0</td>\n",
       "      <td>19.0</td>\n",
       "      <td>9.0</td>\n",
       "      <td>2.0</td>\n",
       "      <td>836352.0</td>\n",
       "      <td>2</td>\n",
       "    </tr>\n",
       "    <tr>\n",
       "      <th>2</th>\n",
       "      <td>2016-07-012014-01-01</td>\n",
       "      <td>D2A4</td>\n",
       "      <td>36 months 36 months</td>\n",
       "      <td>MORTGAGERENT</td>\n",
       "      <td>1360.0</td>\n",
       "      <td>64.0</td>\n",
       "      <td>1.0</td>\n",
       "      <td>52.3</td>\n",
       "      <td>115000.0</td>\n",
       "      <td>25.89</td>\n",
       "      <td>...</td>\n",
       "      <td>1.0</td>\n",
       "      <td>AZTX</td>\n",
       "      <td>ww</td>\n",
       "      <td>1368.0</td>\n",
       "      <td>13141.0</td>\n",
       "      <td>33.0</td>\n",
       "      <td>4.0</td>\n",
       "      <td>2.0</td>\n",
       "      <td>1007337.6</td>\n",
       "      <td>2</td>\n",
       "    </tr>\n",
       "    <tr>\n",
       "      <th>3</th>\n",
       "      <td>2016-07-012014-01-01</td>\n",
       "      <td>A1D1</td>\n",
       "      <td>36 months 60 months</td>\n",
       "      <td>RENTMORTGAGE</td>\n",
       "      <td>1405.0</td>\n",
       "      <td>62.0</td>\n",
       "      <td>0.0</td>\n",
       "      <td>83.9</td>\n",
       "      <td>184000.0</td>\n",
       "      <td>22.31</td>\n",
       "      <td>...</td>\n",
       "      <td>0.0</td>\n",
       "      <td>CAIN</td>\n",
       "      <td>wf</td>\n",
       "      <td>1413.0</td>\n",
       "      <td>40085.0</td>\n",
       "      <td>25.0</td>\n",
       "      <td>12.0</td>\n",
       "      <td>2.0</td>\n",
       "      <td>1020470.4</td>\n",
       "      <td>2</td>\n",
       "    </tr>\n",
       "    <tr>\n",
       "      <th>4</th>\n",
       "      <td>2016-07-012014-01-01</td>\n",
       "      <td>C4C3</td>\n",
       "      <td>60 months 36 months</td>\n",
       "      <td>MORTGAGEMORTGAGE</td>\n",
       "      <td>1380.0</td>\n",
       "      <td>29.0</td>\n",
       "      <td>1.0</td>\n",
       "      <td>111.4</td>\n",
       "      <td>167000.0</td>\n",
       "      <td>29.47</td>\n",
       "      <td>...</td>\n",
       "      <td>0.0</td>\n",
       "      <td>OHLA</td>\n",
       "      <td>wf</td>\n",
       "      <td>1388.0</td>\n",
       "      <td>6754.0</td>\n",
       "      <td>20.0</td>\n",
       "      <td>4.0</td>\n",
       "      <td>1.0</td>\n",
       "      <td>896832.0</td>\n",
       "      <td>1</td>\n",
       "    </tr>\n",
       "  </tbody>\n",
       "</table>\n",
       "<p>5 rows × 27 columns</p>\n",
       "</div>"
      ],
      "text/plain": [
       "                issue_d sub_grade                  term    home_ownership  \\\n",
       "0  2016-07-012014-01-01      A4D1   36 months 60 months  MORTGAGEMORTGAGE   \n",
       "1  2016-07-012014-01-01      B5C4   36 months 60 months      RENTMORTGAGE   \n",
       "2  2016-07-012014-01-01      D2A4   36 months 36 months      MORTGAGERENT   \n",
       "3  2016-07-012014-01-01      A1D1   36 months 60 months      RENTMORTGAGE   \n",
       "4  2016-07-012014-01-01      C4C3   60 months 36 months  MORTGAGEMORTGAGE   \n",
       "\n",
       "   fico_range_low  total_acc  pub_rec  revol_util  annual_inc  int_rate  ...  \\\n",
       "0          1490.0       31.0      0.0        98.8    146122.0     24.98  ...   \n",
       "1          1400.0       51.0      0.0       162.9    127000.0     27.10  ...   \n",
       "2          1360.0       64.0      1.0        52.3    115000.0     25.89  ...   \n",
       "3          1405.0       62.0      0.0        83.9    184000.0     22.31  ...   \n",
       "4          1380.0       29.0      1.0       111.4    167000.0     29.47  ...   \n",
       "\n",
       "   pub_rec_bankruptcies addr_state  initial_list_status  fico_range_high  \\\n",
       "0                   0.0       TXAR                   wf           1498.0   \n",
       "1                   0.0       CAVT                   wf           1408.0   \n",
       "2                   1.0       AZTX                   ww           1368.0   \n",
       "3                   0.0       CAIN                   wf           1413.0   \n",
       "4                   0.0       OHLA                   wf           1388.0   \n",
       "\n",
       "  revol_bal  open_acc emp_length  loan_status time_to_earliest_cr_line  \\\n",
       "0   21530.0      16.0       13.0          2.0                1267660.8   \n",
       "1   13669.0      19.0        9.0          2.0                 836352.0   \n",
       "2   13141.0      33.0        4.0          2.0                1007337.6   \n",
       "3   40085.0      25.0       12.0          2.0                1020470.4   \n",
       "4    6754.0      20.0        4.0          1.0                 896832.0   \n",
       "\n",
       "  loan_status_numeric  \n",
       "0                   2  \n",
       "1                   2  \n",
       "2                   2  \n",
       "3                   2  \n",
       "4                   1  \n",
       "\n",
       "[5 rows x 27 columns]"
      ]
     },
     "execution_count": 2,
     "metadata": {},
     "output_type": "execute_result"
    }
   ],
   "source": [
    "df = pd.read_csv('../data/loans.csv', index_col=\"id\").reset_index(drop=True)\n",
    "df.head()"
   ]
  },
  {
   "cell_type": "code",
   "execution_count": 3,
   "metadata": {},
   "outputs": [
    {
     "name": "stdout",
     "output_type": "stream",
     "text": [
      "<class 'pandas.core.frame.DataFrame'>\n",
      "RangeIndex: 92781 entries, 0 to 92780\n",
      "Data columns (total 27 columns):\n",
      " #   Column                    Non-Null Count  Dtype  \n",
      "---  ------                    --------------  -----  \n",
      " 0   issue_d                   92781 non-null  object \n",
      " 1   sub_grade                 92781 non-null  object \n",
      " 2   term                      92781 non-null  object \n",
      " 3   home_ownership            92781 non-null  object \n",
      " 4   fico_range_low            92781 non-null  float64\n",
      " 5   total_acc                 92781 non-null  float64\n",
      " 6   pub_rec                   92781 non-null  float64\n",
      " 7   revol_util                92781 non-null  float64\n",
      " 8   annual_inc                92781 non-null  float64\n",
      " 9   int_rate                  92781 non-null  float64\n",
      " 10  dti                       92781 non-null  float64\n",
      " 11  purpose                   92781 non-null  object \n",
      " 12  mort_acc                  92781 non-null  float64\n",
      " 13  loan_amnt                 92781 non-null  float64\n",
      " 14  application_type          92781 non-null  object \n",
      " 15  installment               92781 non-null  float64\n",
      " 16  verification_status       92781 non-null  object \n",
      " 17  pub_rec_bankruptcies      92781 non-null  float64\n",
      " 18  addr_state                92781 non-null  object \n",
      " 19  initial_list_status       92781 non-null  object \n",
      " 20  fico_range_high           92781 non-null  float64\n",
      " 21  revol_bal                 92781 non-null  float64\n",
      " 22  open_acc                  92781 non-null  float64\n",
      " 23  emp_length                92781 non-null  float64\n",
      " 24  loan_status               92781 non-null  float64\n",
      " 25  time_to_earliest_cr_line  92781 non-null  float64\n",
      " 26  loan_status_numeric       92781 non-null  int64  \n",
      "dtypes: float64(17), int64(1), object(9)\n",
      "memory usage: 19.1+ MB\n"
     ]
    }
   ],
   "source": [
    "df.info()"
   ]
  },
  {
   "cell_type": "markdown",
   "metadata": {},
   "source": [
    "### Processar colunas sub_grade e term"
   ]
  },
  {
   "cell_type": "code",
   "execution_count": 4,
   "metadata": {},
   "outputs": [
    {
     "data": {
      "text/html": [
       "<div>\n",
       "<style scoped>\n",
       "    .dataframe tbody tr th:only-of-type {\n",
       "        vertical-align: middle;\n",
       "    }\n",
       "\n",
       "    .dataframe tbody tr th {\n",
       "        vertical-align: top;\n",
       "    }\n",
       "\n",
       "    .dataframe thead th {\n",
       "        text-align: right;\n",
       "    }\n",
       "</style>\n",
       "<table border=\"1\" class=\"dataframe\">\n",
       "  <thead>\n",
       "    <tr style=\"text-align: right;\">\n",
       "      <th></th>\n",
       "      <th>issue_d</th>\n",
       "      <th>sub_grade</th>\n",
       "      <th>term</th>\n",
       "      <th>home_ownership</th>\n",
       "      <th>fico_range_low</th>\n",
       "      <th>total_acc</th>\n",
       "      <th>pub_rec</th>\n",
       "      <th>revol_util</th>\n",
       "      <th>annual_inc</th>\n",
       "      <th>int_rate</th>\n",
       "      <th>...</th>\n",
       "      <th>pub_rec_bankruptcies</th>\n",
       "      <th>addr_state</th>\n",
       "      <th>initial_list_status</th>\n",
       "      <th>fico_range_high</th>\n",
       "      <th>revol_bal</th>\n",
       "      <th>open_acc</th>\n",
       "      <th>emp_length</th>\n",
       "      <th>loan_status</th>\n",
       "      <th>time_to_earliest_cr_line</th>\n",
       "      <th>loan_status_numeric</th>\n",
       "    </tr>\n",
       "  </thead>\n",
       "  <tbody>\n",
       "    <tr>\n",
       "      <th>0</th>\n",
       "      <td>2016-07-012014-01-01</td>\n",
       "      <td>A4</td>\n",
       "      <td>36 months</td>\n",
       "      <td>MORTGAGEMORTGAGE</td>\n",
       "      <td>1490.0</td>\n",
       "      <td>31.0</td>\n",
       "      <td>0.0</td>\n",
       "      <td>98.8</td>\n",
       "      <td>146122.0</td>\n",
       "      <td>24.98</td>\n",
       "      <td>...</td>\n",
       "      <td>0.0</td>\n",
       "      <td>TXAR</td>\n",
       "      <td>wf</td>\n",
       "      <td>1498.0</td>\n",
       "      <td>21530.0</td>\n",
       "      <td>16.0</td>\n",
       "      <td>13.0</td>\n",
       "      <td>2.0</td>\n",
       "      <td>1267660.8</td>\n",
       "      <td>2</td>\n",
       "    </tr>\n",
       "    <tr>\n",
       "      <th>1</th>\n",
       "      <td>2016-07-012014-01-01</td>\n",
       "      <td>B5</td>\n",
       "      <td>36 months</td>\n",
       "      <td>RENTMORTGAGE</td>\n",
       "      <td>1400.0</td>\n",
       "      <td>51.0</td>\n",
       "      <td>0.0</td>\n",
       "      <td>162.9</td>\n",
       "      <td>127000.0</td>\n",
       "      <td>27.10</td>\n",
       "      <td>...</td>\n",
       "      <td>0.0</td>\n",
       "      <td>CAVT</td>\n",
       "      <td>wf</td>\n",
       "      <td>1408.0</td>\n",
       "      <td>13669.0</td>\n",
       "      <td>19.0</td>\n",
       "      <td>9.0</td>\n",
       "      <td>2.0</td>\n",
       "      <td>836352.0</td>\n",
       "      <td>2</td>\n",
       "    </tr>\n",
       "    <tr>\n",
       "      <th>2</th>\n",
       "      <td>2016-07-012014-01-01</td>\n",
       "      <td>D2</td>\n",
       "      <td>36 months</td>\n",
       "      <td>MORTGAGERENT</td>\n",
       "      <td>1360.0</td>\n",
       "      <td>64.0</td>\n",
       "      <td>1.0</td>\n",
       "      <td>52.3</td>\n",
       "      <td>115000.0</td>\n",
       "      <td>25.89</td>\n",
       "      <td>...</td>\n",
       "      <td>1.0</td>\n",
       "      <td>AZTX</td>\n",
       "      <td>ww</td>\n",
       "      <td>1368.0</td>\n",
       "      <td>13141.0</td>\n",
       "      <td>33.0</td>\n",
       "      <td>4.0</td>\n",
       "      <td>2.0</td>\n",
       "      <td>1007337.6</td>\n",
       "      <td>2</td>\n",
       "    </tr>\n",
       "    <tr>\n",
       "      <th>3</th>\n",
       "      <td>2016-07-012014-01-01</td>\n",
       "      <td>A1</td>\n",
       "      <td>36 months</td>\n",
       "      <td>RENTMORTGAGE</td>\n",
       "      <td>1405.0</td>\n",
       "      <td>62.0</td>\n",
       "      <td>0.0</td>\n",
       "      <td>83.9</td>\n",
       "      <td>184000.0</td>\n",
       "      <td>22.31</td>\n",
       "      <td>...</td>\n",
       "      <td>0.0</td>\n",
       "      <td>CAIN</td>\n",
       "      <td>wf</td>\n",
       "      <td>1413.0</td>\n",
       "      <td>40085.0</td>\n",
       "      <td>25.0</td>\n",
       "      <td>12.0</td>\n",
       "      <td>2.0</td>\n",
       "      <td>1020470.4</td>\n",
       "      <td>2</td>\n",
       "    </tr>\n",
       "    <tr>\n",
       "      <th>4</th>\n",
       "      <td>2016-07-012014-01-01</td>\n",
       "      <td>C4</td>\n",
       "      <td>60 months</td>\n",
       "      <td>MORTGAGEMORTGAGE</td>\n",
       "      <td>1380.0</td>\n",
       "      <td>29.0</td>\n",
       "      <td>1.0</td>\n",
       "      <td>111.4</td>\n",
       "      <td>167000.0</td>\n",
       "      <td>29.47</td>\n",
       "      <td>...</td>\n",
       "      <td>0.0</td>\n",
       "      <td>OHLA</td>\n",
       "      <td>wf</td>\n",
       "      <td>1388.0</td>\n",
       "      <td>6754.0</td>\n",
       "      <td>20.0</td>\n",
       "      <td>4.0</td>\n",
       "      <td>1.0</td>\n",
       "      <td>896832.0</td>\n",
       "      <td>1</td>\n",
       "    </tr>\n",
       "  </tbody>\n",
       "</table>\n",
       "<p>5 rows × 27 columns</p>\n",
       "</div>"
      ],
      "text/plain": [
       "                issue_d sub_grade       term    home_ownership  \\\n",
       "0  2016-07-012014-01-01        A4  36 months  MORTGAGEMORTGAGE   \n",
       "1  2016-07-012014-01-01        B5  36 months      RENTMORTGAGE   \n",
       "2  2016-07-012014-01-01        D2  36 months      MORTGAGERENT   \n",
       "3  2016-07-012014-01-01        A1  36 months      RENTMORTGAGE   \n",
       "4  2016-07-012014-01-01        C4  60 months  MORTGAGEMORTGAGE   \n",
       "\n",
       "   fico_range_low  total_acc  pub_rec  revol_util  annual_inc  int_rate  ...  \\\n",
       "0          1490.0       31.0      0.0        98.8    146122.0     24.98  ...   \n",
       "1          1400.0       51.0      0.0       162.9    127000.0     27.10  ...   \n",
       "2          1360.0       64.0      1.0        52.3    115000.0     25.89  ...   \n",
       "3          1405.0       62.0      0.0        83.9    184000.0     22.31  ...   \n",
       "4          1380.0       29.0      1.0       111.4    167000.0     29.47  ...   \n",
       "\n",
       "   pub_rec_bankruptcies addr_state  initial_list_status  fico_range_high  \\\n",
       "0                   0.0       TXAR                   wf           1498.0   \n",
       "1                   0.0       CAVT                   wf           1408.0   \n",
       "2                   1.0       AZTX                   ww           1368.0   \n",
       "3                   0.0       CAIN                   wf           1413.0   \n",
       "4                   0.0       OHLA                   wf           1388.0   \n",
       "\n",
       "  revol_bal  open_acc emp_length  loan_status time_to_earliest_cr_line  \\\n",
       "0   21530.0      16.0       13.0          2.0                1267660.8   \n",
       "1   13669.0      19.0        9.0          2.0                 836352.0   \n",
       "2   13141.0      33.0        4.0          2.0                1007337.6   \n",
       "3   40085.0      25.0       12.0          2.0                1020470.4   \n",
       "4    6754.0      20.0        4.0          1.0                 896832.0   \n",
       "\n",
       "  loan_status_numeric  \n",
       "0                   2  \n",
       "1                   2  \n",
       "2                   2  \n",
       "3                   2  \n",
       "4                   1  \n",
       "\n",
       "[5 rows x 27 columns]"
      ]
     },
     "execution_count": 4,
     "metadata": {},
     "output_type": "execute_result"
    }
   ],
   "source": [
    "df['sub_grade'] = df['sub_grade'].astype('string')\n",
    "\n",
    "# Cria uma cópia do DataFrame\n",
    "df_copy = df.copy()\n",
    "\n",
    "# Separa o sub_grade e coloca em um novo dataframe\n",
    "df_copy['sub_grade'] = df['sub_grade'].str.split('([A-Z][1-9])', expand=True)[3]\n",
    "df['sub_grade'] = df['sub_grade'].str.split('([A-Z][1-9])', expand=True)[1]\n",
    "\n",
    "df_copy['term'] = df['term'].str.strip().str.split(' ', expand=True)[2] + ' months'\n",
    "df['term'] = df['term'].str.strip().str.split(' ', expand=True)[0] + ' months'\n",
    "\n",
    "df = pd.concat([df, df_copy], axis=0)\n",
    "\n",
    "del df_copy\n",
    "\n",
    "df.head()"
   ]
  },
  {
   "cell_type": "markdown",
   "metadata": {},
   "source": [
    "### Valores nulos"
   ]
  },
  {
   "cell_type": "code",
   "execution_count": 5,
   "metadata": {},
   "outputs": [
    {
     "data": {
      "text/plain": [
       "issue_d                     False\n",
       "sub_grade                   False\n",
       "term                        False\n",
       "home_ownership              False\n",
       "fico_range_low              False\n",
       "total_acc                   False\n",
       "pub_rec                     False\n",
       "revol_util                  False\n",
       "annual_inc                  False\n",
       "int_rate                    False\n",
       "dti                         False\n",
       "purpose                     False\n",
       "mort_acc                    False\n",
       "loan_amnt                   False\n",
       "application_type            False\n",
       "installment                 False\n",
       "verification_status         False\n",
       "pub_rec_bankruptcies        False\n",
       "addr_state                  False\n",
       "initial_list_status         False\n",
       "fico_range_high             False\n",
       "revol_bal                   False\n",
       "open_acc                    False\n",
       "emp_length                  False\n",
       "loan_status                 False\n",
       "time_to_earliest_cr_line    False\n",
       "loan_status_numeric         False\n",
       "dtype: bool"
      ]
     },
     "execution_count": 5,
     "metadata": {},
     "output_type": "execute_result"
    }
   ],
   "source": [
    "df.isnull().any()"
   ]
  },
  {
   "cell_type": "markdown",
   "metadata": {},
   "source": [
    "### Tratar dados categóricos"
   ]
  },
  {
   "cell_type": "code",
   "execution_count": 6,
   "metadata": {},
   "outputs": [
    {
     "data": {
      "text/html": [
       "<div>\n",
       "<style scoped>\n",
       "    .dataframe tbody tr th:only-of-type {\n",
       "        vertical-align: middle;\n",
       "    }\n",
       "\n",
       "    .dataframe tbody tr th {\n",
       "        vertical-align: top;\n",
       "    }\n",
       "\n",
       "    .dataframe thead th {\n",
       "        text-align: right;\n",
       "    }\n",
       "</style>\n",
       "<table border=\"1\" class=\"dataframe\">\n",
       "  <thead>\n",
       "    <tr style=\"text-align: right;\">\n",
       "      <th></th>\n",
       "      <th>sub_grade</th>\n",
       "      <th>term</th>\n",
       "      <th>home_ownership</th>\n",
       "      <th>fico_range_low</th>\n",
       "      <th>total_acc</th>\n",
       "      <th>pub_rec</th>\n",
       "      <th>revol_util</th>\n",
       "      <th>annual_inc</th>\n",
       "      <th>int_rate</th>\n",
       "      <th>dti</th>\n",
       "      <th>...</th>\n",
       "      <th>verification_status</th>\n",
       "      <th>pub_rec_bankruptcies</th>\n",
       "      <th>addr_state</th>\n",
       "      <th>initial_list_status</th>\n",
       "      <th>fico_range_high</th>\n",
       "      <th>revol_bal</th>\n",
       "      <th>open_acc</th>\n",
       "      <th>emp_length</th>\n",
       "      <th>loan_status</th>\n",
       "      <th>time_to_earliest_cr_line</th>\n",
       "    </tr>\n",
       "  </thead>\n",
       "  <tbody>\n",
       "    <tr>\n",
       "      <th>0</th>\n",
       "      <td>3</td>\n",
       "      <td>0</td>\n",
       "      <td>3</td>\n",
       "      <td>1490.0</td>\n",
       "      <td>31.0</td>\n",
       "      <td>0.0</td>\n",
       "      <td>98.8</td>\n",
       "      <td>146122.0</td>\n",
       "      <td>24.98</td>\n",
       "      <td>22.41</td>\n",
       "      <td>...</td>\n",
       "      <td>2</td>\n",
       "      <td>0.0</td>\n",
       "      <td>1853</td>\n",
       "      <td>2</td>\n",
       "      <td>1498.0</td>\n",
       "      <td>21530.0</td>\n",
       "      <td>16.0</td>\n",
       "      <td>13.0</td>\n",
       "      <td>2</td>\n",
       "      <td>1267660.8</td>\n",
       "    </tr>\n",
       "    <tr>\n",
       "      <th>1</th>\n",
       "      <td>9</td>\n",
       "      <td>0</td>\n",
       "      <td>10</td>\n",
       "      <td>1400.0</td>\n",
       "      <td>51.0</td>\n",
       "      <td>0.0</td>\n",
       "      <td>162.9</td>\n",
       "      <td>127000.0</td>\n",
       "      <td>27.10</td>\n",
       "      <td>51.23</td>\n",
       "      <td>...</td>\n",
       "      <td>8</td>\n",
       "      <td>0.0</td>\n",
       "      <td>213</td>\n",
       "      <td>2</td>\n",
       "      <td>1408.0</td>\n",
       "      <td>13669.0</td>\n",
       "      <td>19.0</td>\n",
       "      <td>9.0</td>\n",
       "      <td>2</td>\n",
       "      <td>836352.0</td>\n",
       "    </tr>\n",
       "    <tr>\n",
       "      <th>2</th>\n",
       "      <td>16</td>\n",
       "      <td>0</td>\n",
       "      <td>5</td>\n",
       "      <td>1360.0</td>\n",
       "      <td>64.0</td>\n",
       "      <td>1.0</td>\n",
       "      <td>52.3</td>\n",
       "      <td>115000.0</td>\n",
       "      <td>25.89</td>\n",
       "      <td>33.54</td>\n",
       "      <td>...</td>\n",
       "      <td>3</td>\n",
       "      <td>1.0</td>\n",
       "      <td>164</td>\n",
       "      <td>3</td>\n",
       "      <td>1368.0</td>\n",
       "      <td>13141.0</td>\n",
       "      <td>33.0</td>\n",
       "      <td>4.0</td>\n",
       "      <td>2</td>\n",
       "      <td>1007337.6</td>\n",
       "    </tr>\n",
       "    <tr>\n",
       "      <th>3</th>\n",
       "      <td>0</td>\n",
       "      <td>0</td>\n",
       "      <td>10</td>\n",
       "      <td>1405.0</td>\n",
       "      <td>62.0</td>\n",
       "      <td>0.0</td>\n",
       "      <td>83.9</td>\n",
       "      <td>184000.0</td>\n",
       "      <td>22.31</td>\n",
       "      <td>36.05</td>\n",
       "      <td>...</td>\n",
       "      <td>5</td>\n",
       "      <td>0.0</td>\n",
       "      <td>185</td>\n",
       "      <td>2</td>\n",
       "      <td>1413.0</td>\n",
       "      <td>40085.0</td>\n",
       "      <td>25.0</td>\n",
       "      <td>12.0</td>\n",
       "      <td>2</td>\n",
       "      <td>1020470.4</td>\n",
       "    </tr>\n",
       "    <tr>\n",
       "      <th>4</th>\n",
       "      <td>13</td>\n",
       "      <td>1</td>\n",
       "      <td>3</td>\n",
       "      <td>1380.0</td>\n",
       "      <td>29.0</td>\n",
       "      <td>1.0</td>\n",
       "      <td>111.4</td>\n",
       "      <td>167000.0</td>\n",
       "      <td>29.47</td>\n",
       "      <td>31.77</td>\n",
       "      <td>...</td>\n",
       "      <td>8</td>\n",
       "      <td>0.0</td>\n",
       "      <td>1513</td>\n",
       "      <td>2</td>\n",
       "      <td>1388.0</td>\n",
       "      <td>6754.0</td>\n",
       "      <td>20.0</td>\n",
       "      <td>4.0</td>\n",
       "      <td>1</td>\n",
       "      <td>896832.0</td>\n",
       "    </tr>\n",
       "  </tbody>\n",
       "</table>\n",
       "<p>5 rows × 25 columns</p>\n",
       "</div>"
      ],
      "text/plain": [
       "   sub_grade  term  home_ownership  fico_range_low  total_acc  pub_rec  \\\n",
       "0          3     0               3          1490.0       31.0      0.0   \n",
       "1          9     0              10          1400.0       51.0      0.0   \n",
       "2         16     0               5          1360.0       64.0      1.0   \n",
       "3          0     0              10          1405.0       62.0      0.0   \n",
       "4         13     1               3          1380.0       29.0      1.0   \n",
       "\n",
       "   revol_util  annual_inc  int_rate    dti  ...  verification_status  \\\n",
       "0        98.8    146122.0     24.98  22.41  ...                    2   \n",
       "1       162.9    127000.0     27.10  51.23  ...                    8   \n",
       "2        52.3    115000.0     25.89  33.54  ...                    3   \n",
       "3        83.9    184000.0     22.31  36.05  ...                    5   \n",
       "4       111.4    167000.0     29.47  31.77  ...                    8   \n",
       "\n",
       "   pub_rec_bankruptcies  addr_state  initial_list_status  fico_range_high  \\\n",
       "0                   0.0        1853                    2           1498.0   \n",
       "1                   0.0         213                    2           1408.0   \n",
       "2                   1.0         164                    3           1368.0   \n",
       "3                   0.0         185                    2           1413.0   \n",
       "4                   0.0        1513                    2           1388.0   \n",
       "\n",
       "   revol_bal  open_acc  emp_length  loan_status  time_to_earliest_cr_line  \n",
       "0    21530.0      16.0        13.0            2                 1267660.8  \n",
       "1    13669.0      19.0         9.0            2                  836352.0  \n",
       "2    13141.0      33.0         4.0            2                 1007337.6  \n",
       "3    40085.0      25.0        12.0            2                 1020470.4  \n",
       "4     6754.0      20.0         4.0            1                  896832.0  \n",
       "\n",
       "[5 rows x 25 columns]"
      ]
     },
     "execution_count": 6,
     "metadata": {},
     "output_type": "execute_result"
    }
   ],
   "source": [
    "# Dropar coluna issue_d, irrelevante\n",
    "df.drop(columns=[\"issue_d\", 'loan_status_numeric'], inplace=True, axis=1)\n",
    "\n",
    "df['loan_status'] = df['loan_status'].astype('uint8')\n",
    "\n",
    "# Pegar colunas categóricas\n",
    "category_columns = df.select_dtypes(include=[\"object\", \"string\"]).columns\n",
    "\n",
    "# Transformar colunas categóricas em numéricas\n",
    "for column in category_columns:\n",
    "    label_encoder = LabelEncoder()\n",
    "    df[column] = label_encoder.fit_transform(df[column])\n",
    "\n",
    "df.head()"
   ]
  },
  {
   "cell_type": "markdown",
   "metadata": {},
   "source": [
    "### Dropar colunas"
   ]
  },
  {
   "cell_type": "code",
   "execution_count": 7,
   "metadata": {},
   "outputs": [
    {
     "data": {
      "image/png": "[encoded data removed]",
      "text/plain": [
       "<Figure size 1000x1000 with 2 Axes>"
      ]
     },
     "metadata": {},
     "output_type": "display_data"
    }
   ],
   "source": [
    "corr = df.corr()\n",
    "\n",
    "plt.figure(figsize=(10, 10))\n",
    "sns.heatmap(corr, annot=False, cmap=\"coolwarm\")\n",
    "plt.show()"
   ]
  },
  {
   "cell_type": "markdown",
   "metadata": {},
   "source": [
    "As colunas \"fico_range_low\" e \"fico_range_high\", assim como \"loan_amnt\" e \"installment\", apresentam uma alta correlação. Optamos por remover uma de cada par para evitar redundâncias."
   ]
  },
  {
   "cell_type": "code",
   "execution_count": 8,
   "metadata": {},
   "outputs": [],
   "source": [
    "columns_to_remove = ['fico_range_high', 'installment']\n",
    "df.drop(columns=columns_to_remove, inplace=True, axis=1)"
   ]
  },
  {
   "cell_type": "markdown",
   "metadata": {},
   "source": [
    "### Separar em Features e Labels"
   ]
  },
  {
   "cell_type": "code",
   "execution_count": 9,
   "metadata": {},
   "outputs": [],
   "source": [
    "X, y = df.drop(columns=[\"loan_status\"]), df[\"loan_status\"]"
   ]
  },
  {
   "cell_type": "markdown",
   "metadata": {},
   "source": [
    "### Balançeamento de classes"
   ]
  },
  {
   "cell_type": "code",
   "execution_count": 10,
   "metadata": {},
   "outputs": [
    {
     "data": {
      "text/plain": [
       "loan_status\n",
       "2    0.735334\n",
       "1    0.243908\n",
       "0    0.020759\n",
       "Name: proportion, dtype: float64"
      ]
     },
     "execution_count": 10,
     "metadata": {},
     "output_type": "execute_result"
    }
   ],
   "source": [
    "df['loan_status'].value_counts(normalize=True)"
   ]
  },
  {
   "cell_type": "code",
   "execution_count": 11,
   "metadata": {},
   "outputs": [
    {
     "data": {
      "text/plain": [
       "(loan_status\n",
       " 0    0.333333\n",
       " 1    0.333333\n",
       " 2    0.333333\n",
       " Name: proportion, dtype: float64,\n",
       " (11556,))"
      ]
     },
     "execution_count": 11,
     "metadata": {},
     "output_type": "execute_result"
    }
   ],
   "source": [
    "rus = RandomUnderSampler(random_state=42)\n",
    "\n",
    "X_res, y_res = rus.fit_resample(X, y)\n",
    "\n",
    "y_res.value_counts(normalize=True), y_res.shape"
   ]
  },
  {
   "cell_type": "markdown",
   "metadata": {},
   "source": [
    "### Separar em treino e teste"
   ]
  },
  {
   "cell_type": "code",
   "execution_count": 12,
   "metadata": {},
   "outputs": [],
   "source": [
    "# Treino e teste balanceados\n",
    "\n",
    "X_res_train, X_res_test, y_res_train, y_res_test = train_test_split(X_res, y_res,\n",
    "                                                                    test_size=0.2, random_state=42)\n",
    "\n",
    "# Treino e teste desbalanceados\n",
    "X_train, X_test, y_train, y_test = train_test_split(X, y, test_size=0.2, random_state=42)"
   ]
  },
  {
   "cell_type": "markdown",
   "metadata": {},
   "source": [
    "### Seleção de parâmetros e do modelo"
   ]
  },
  {
   "cell_type": "code",
   "execution_count": 13,
   "metadata": {},
   "outputs": [
    {
     "data": {
      "text/plain": [
       "' params = [\\n    {\\'n_estimators\\': [10, 50, 100, 200, 500], \\'criterion\\': [\\'gini\\', \\'entropy\\']},\\n]\\n\\nmodels = [RandomForestClassifier()]\\n\\nfor model, param in zip(models, params):\\n    grid = GridSearchCV(model, param, cv=5, n_jobs=-1)\\n    grid.fit(X_res_train, y_res_train)\\n    print(f\"{model.__class__.__name__} : {grid.best_params_}\") '"
      ]
     },
     "execution_count": 13,
     "metadata": {},
     "output_type": "execute_result"
    }
   ],
   "source": [
    "\"\"\" params = [\n",
    "    {'n_estimators': [10, 50, 100, 200, 500], 'criterion': ['gini', 'entropy']},\n",
    "]\n",
    "\n",
    "models = [RandomForestClassifier()]\n",
    "\n",
    "for model, param in zip(models, params):\n",
    "    grid = GridSearchCV(model, param, cv=5, n_jobs=-1)\n",
    "    grid.fit(X_res_train, y_res_train)\n",
    "    print(f\"{model.__class__.__name__} : {grid.best_params_}\") \"\"\""
   ]
  },
  {
   "cell_type": "markdown",
   "metadata": {},
   "source": [
    "### Treinar os modelos e realizar classificação"
   ]
  },
  {
   "cell_type": "code",
   "execution_count": 14,
   "metadata": {},
   "outputs": [],
   "source": [
    "rf_res = RandomForestClassifier(n_estimators=500, criterion='entropy')\n",
    "rf = RandomForestClassifier(n_estimators=500, criterion='entropy')\n",
    "\n",
    "# Treino dos modelos\n",
    "rf_res.fit(X_res_train, y_res_train)\n",
    "rf.fit(X_train, y_train)\n",
    "\n",
    "# Predição dos modelos\n",
    "predict_rf_res = rf_res.predict(X_res_test)\n",
    "predict_rf = rf.predict(X_test)"
   ]
  },
  {
   "cell_type": "markdown",
   "metadata": {},
   "source": [
    "### Avaliação"
   ]
  },
  {
   "cell_type": "code",
   "execution_count": 15,
   "metadata": {},
   "outputs": [
    {
     "data": {
      "text/html": [
       "<div>\n",
       "<style scoped>\n",
       "    .dataframe tbody tr th:only-of-type {\n",
       "        vertical-align: middle;\n",
       "    }\n",
       "\n",
       "    .dataframe tbody tr th {\n",
       "        vertical-align: top;\n",
       "    }\n",
       "\n",
       "    .dataframe thead th {\n",
       "        text-align: right;\n",
       "    }\n",
       "</style>\n",
       "<table border=\"1\" class=\"dataframe\">\n",
       "  <thead>\n",
       "    <tr style=\"text-align: right;\">\n",
       "      <th></th>\n",
       "      <th>Model</th>\n",
       "      <th>Accuracy</th>\n",
       "      <th>Precision</th>\n",
       "      <th>Recall</th>\n",
       "      <th>F1</th>\n",
       "    </tr>\n",
       "  </thead>\n",
       "  <tbody>\n",
       "    <tr>\n",
       "      <th>0</th>\n",
       "      <td>RF Balanced</td>\n",
       "      <td>67.387543</td>\n",
       "      <td>66.336875</td>\n",
       "      <td>67.227064</td>\n",
       "      <td>66.209730</td>\n",
       "    </tr>\n",
       "    <tr>\n",
       "      <th>1</th>\n",
       "      <td>RF</td>\n",
       "      <td>83.792741</td>\n",
       "      <td>87.250111</td>\n",
       "      <td>56.367102</td>\n",
       "      <td>62.535743</td>\n",
       "    </tr>\n",
       "  </tbody>\n",
       "</table>\n",
       "</div>"
      ],
      "text/plain": [
       "         Model   Accuracy  Precision     Recall         F1\n",
       "0  RF Balanced  67.387543  66.336875  67.227064  66.209730\n",
       "1           RF  83.792741  87.250111  56.367102  62.535743"
      ]
     },
     "execution_count": 15,
     "metadata": {},
     "output_type": "execute_result"
    }
   ],
   "source": [
    "predicts = [predict_rf_res, predict_rf]\n",
    "names = [\"RF Balanced\", \"RF\"]\n",
    "ys = [y_res_test, y_test]\n",
    "\n",
    "accuracies = []\n",
    "precisions = []\n",
    "recalls = []\n",
    "f1s = []\n",
    "\n",
    "for current_y, predict in zip(ys, predicts):\n",
    "    accuracies.append(accuracy_score(current_y, predict) * 100)\n",
    "    precisions.append(precision_score(current_y, predict, average='macro') * 100)\n",
    "    recalls.append(recall_score(current_y, predict, average='macro') * 100)\n",
    "    f1s.append(f1_score(current_y, predict, average='macro') * 100)\n",
    "    \n",
    "metrics = pd.DataFrame({\n",
    "    \"Model\": names,\n",
    "    \"Accuracy\": accuracies,\n",
    "    \"Precision\": precisions,\n",
    "    \"Recall\": recalls,\n",
    "    \"F1\": f1s\n",
    "})\n",
    "\n",
    "metrics"
   ]
  },
  {
   "cell_type": "markdown",
   "metadata": {},
   "source": [
    "## Breast Cancer"
   ]
  },
  {
   "cell_type": "markdown",
   "metadata": {},
   "source": [
    "### Carregar os dados"
   ]
  },
  {
   "cell_type": "code",
   "execution_count": 16,
   "metadata": {},
   "outputs": [
    {
     "data": {
      "text/html": [
       "<div>\n",
       "<style scoped>\n",
       "    .dataframe tbody tr th:only-of-type {\n",
       "        vertical-align: middle;\n",
       "    }\n",
       "\n",
       "    .dataframe tbody tr th {\n",
       "        vertical-align: top;\n",
       "    }\n",
       "\n",
       "    .dataframe thead th {\n",
       "        text-align: right;\n",
       "    }\n",
       "</style>\n",
       "<table border=\"1\" class=\"dataframe\">\n",
       "  <thead>\n",
       "    <tr style=\"text-align: right;\">\n",
       "      <th></th>\n",
       "      <th>Age</th>\n",
       "      <th>Race</th>\n",
       "      <th>Marital Status</th>\n",
       "      <th>T Stage</th>\n",
       "      <th>N Stage</th>\n",
       "      <th>6th Stage</th>\n",
       "      <th>differentiate</th>\n",
       "      <th>Grade</th>\n",
       "      <th>A Stage</th>\n",
       "      <th>Tumor Size</th>\n",
       "      <th>Estrogen Status</th>\n",
       "      <th>Progesterone Status</th>\n",
       "      <th>Regional Node Examined</th>\n",
       "      <th>Reginol Node Positive</th>\n",
       "      <th>Survival Months</th>\n",
       "      <th>Status</th>\n",
       "    </tr>\n",
       "  </thead>\n",
       "  <tbody>\n",
       "    <tr>\n",
       "      <th>0</th>\n",
       "      <td>68</td>\n",
       "      <td>White</td>\n",
       "      <td>Married</td>\n",
       "      <td>T1</td>\n",
       "      <td>N1</td>\n",
       "      <td>IIA</td>\n",
       "      <td>Poorly differentiated</td>\n",
       "      <td>3</td>\n",
       "      <td>Regional</td>\n",
       "      <td>4</td>\n",
       "      <td>Positive</td>\n",
       "      <td>Positive</td>\n",
       "      <td>24</td>\n",
       "      <td>1</td>\n",
       "      <td>60</td>\n",
       "      <td>Alive</td>\n",
       "    </tr>\n",
       "    <tr>\n",
       "      <th>1</th>\n",
       "      <td>50</td>\n",
       "      <td>White</td>\n",
       "      <td>Married</td>\n",
       "      <td>T2</td>\n",
       "      <td>N2</td>\n",
       "      <td>IIIA</td>\n",
       "      <td>Moderately differentiated</td>\n",
       "      <td>2</td>\n",
       "      <td>Regional</td>\n",
       "      <td>35</td>\n",
       "      <td>Positive</td>\n",
       "      <td>Positive</td>\n",
       "      <td>14</td>\n",
       "      <td>5</td>\n",
       "      <td>62</td>\n",
       "      <td>Alive</td>\n",
       "    </tr>\n",
       "    <tr>\n",
       "      <th>2</th>\n",
       "      <td>58</td>\n",
       "      <td>White</td>\n",
       "      <td>Divorced</td>\n",
       "      <td>T3</td>\n",
       "      <td>N3</td>\n",
       "      <td>IIIC</td>\n",
       "      <td>Moderately differentiated</td>\n",
       "      <td>2</td>\n",
       "      <td>Regional</td>\n",
       "      <td>63</td>\n",
       "      <td>Positive</td>\n",
       "      <td>Positive</td>\n",
       "      <td>14</td>\n",
       "      <td>7</td>\n",
       "      <td>75</td>\n",
       "      <td>Alive</td>\n",
       "    </tr>\n",
       "    <tr>\n",
       "      <th>3</th>\n",
       "      <td>58</td>\n",
       "      <td>White</td>\n",
       "      <td>Married</td>\n",
       "      <td>T1</td>\n",
       "      <td>N1</td>\n",
       "      <td>IIA</td>\n",
       "      <td>Poorly differentiated</td>\n",
       "      <td>3</td>\n",
       "      <td>Regional</td>\n",
       "      <td>18</td>\n",
       "      <td>Positive</td>\n",
       "      <td>Positive</td>\n",
       "      <td>2</td>\n",
       "      <td>1</td>\n",
       "      <td>84</td>\n",
       "      <td>Alive</td>\n",
       "    </tr>\n",
       "    <tr>\n",
       "      <th>4</th>\n",
       "      <td>47</td>\n",
       "      <td>White</td>\n",
       "      <td>Married</td>\n",
       "      <td>T2</td>\n",
       "      <td>N1</td>\n",
       "      <td>IIB</td>\n",
       "      <td>Poorly differentiated</td>\n",
       "      <td>3</td>\n",
       "      <td>Regional</td>\n",
       "      <td>41</td>\n",
       "      <td>Positive</td>\n",
       "      <td>Positive</td>\n",
       "      <td>3</td>\n",
       "      <td>1</td>\n",
       "      <td>50</td>\n",
       "      <td>Alive</td>\n",
       "    </tr>\n",
       "  </tbody>\n",
       "</table>\n",
       "</div>"
      ],
      "text/plain": [
       "   Age   Race Marital Status T Stage  N Stage 6th Stage  \\\n",
       "0   68  White        Married       T1      N1       IIA   \n",
       "1   50  White        Married       T2      N2      IIIA   \n",
       "2   58  White       Divorced       T3      N3      IIIC   \n",
       "3   58  White        Married       T1      N1       IIA   \n",
       "4   47  White        Married       T2      N1       IIB   \n",
       "\n",
       "               differentiate Grade   A Stage  Tumor Size Estrogen Status  \\\n",
       "0      Poorly differentiated     3  Regional           4        Positive   \n",
       "1  Moderately differentiated     2  Regional          35        Positive   \n",
       "2  Moderately differentiated     2  Regional          63        Positive   \n",
       "3      Poorly differentiated     3  Regional          18        Positive   \n",
       "4      Poorly differentiated     3  Regional          41        Positive   \n",
       "\n",
       "  Progesterone Status  Regional Node Examined  Reginol Node Positive  \\\n",
       "0            Positive                      24                      1   \n",
       "1            Positive                      14                      5   \n",
       "2            Positive                      14                      7   \n",
       "3            Positive                       2                      1   \n",
       "4            Positive                       3                      1   \n",
       "\n",
       "   Survival Months Status  \n",
       "0               60  Alive  \n",
       "1               62  Alive  \n",
       "2               75  Alive  \n",
       "3               84  Alive  \n",
       "4               50  Alive  "
      ]
     },
     "execution_count": 16,
     "metadata": {},
     "output_type": "execute_result"
    }
   ],
   "source": [
    "df = pd.read_csv('../data/Breast_Cancer.csv')\n",
    "\n",
    "df.head()"
   ]
  },
  {
   "cell_type": "code",
   "execution_count": 17,
   "metadata": {},
   "outputs": [
    {
     "name": "stdout",
     "output_type": "stream",
     "text": [
      "<class 'pandas.core.frame.DataFrame'>\n",
      "RangeIndex: 4024 entries, 0 to 4023\n",
      "Data columns (total 16 columns):\n",
      " #   Column                  Non-Null Count  Dtype \n",
      "---  ------                  --------------  ----- \n",
      " 0   Age                     4024 non-null   int64 \n",
      " 1   Race                    4024 non-null   object\n",
      " 2   Marital Status          4024 non-null   object\n",
      " 3   T Stage                 4024 non-null   object\n",
      " 4   N Stage                 4024 non-null   object\n",
      " 5   6th Stage               4024 non-null   object\n",
      " 6   differentiate           4024 non-null   object\n",
      " 7   Grade                   4024 non-null   object\n",
      " 8   A Stage                 4024 non-null   object\n",
      " 9   Tumor Size              4024 non-null   int64 \n",
      " 10  Estrogen Status         4024 non-null   object\n",
      " 11  Progesterone Status     4024 non-null   object\n",
      " 12  Regional Node Examined  4024 non-null   int64 \n",
      " 13  Reginol Node Positive   4024 non-null   int64 \n",
      " 14  Survival Months         4024 non-null   int64 \n",
      " 15  Status                  4024 non-null   object\n",
      "dtypes: int64(5), object(11)\n",
      "memory usage: 503.1+ KB\n"
     ]
    }
   ],
   "source": [
    "df.info()"
   ]
  },
  {
   "cell_type": "markdown",
   "metadata": {},
   "source": [
    "### Valores nulos"
   ]
  },
  {
   "cell_type": "code",
   "execution_count": 18,
   "metadata": {},
   "outputs": [
    {
     "data": {
      "text/plain": [
       "Age                       False\n",
       "Race                      False\n",
       "Marital Status            False\n",
       "T Stage                   False\n",
       "N Stage                   False\n",
       "6th Stage                 False\n",
       "differentiate             False\n",
       "Grade                     False\n",
       "A Stage                   False\n",
       "Tumor Size                False\n",
       "Estrogen Status           False\n",
       "Progesterone Status       False\n",
       "Regional Node Examined    False\n",
       "Reginol Node Positive     False\n",
       "Survival Months           False\n",
       "Status                    False\n",
       "dtype: bool"
      ]
     },
     "execution_count": 18,
     "metadata": {},
     "output_type": "execute_result"
    }
   ],
   "source": [
    "df.isnull().any()"
   ]
  },
  {
   "cell_type": "markdown",
   "metadata": {},
   "source": [
    "### Tratar dados categóricos"
   ]
  },
  {
   "cell_type": "code",
   "execution_count": 19,
   "metadata": {},
   "outputs": [
    {
     "data": {
      "text/html": [
       "<div>\n",
       "<style scoped>\n",
       "    .dataframe tbody tr th:only-of-type {\n",
       "        vertical-align: middle;\n",
       "    }\n",
       "\n",
       "    .dataframe tbody tr th {\n",
       "        vertical-align: top;\n",
       "    }\n",
       "\n",
       "    .dataframe thead th {\n",
       "        text-align: right;\n",
       "    }\n",
       "</style>\n",
       "<table border=\"1\" class=\"dataframe\">\n",
       "  <thead>\n",
       "    <tr style=\"text-align: right;\">\n",
       "      <th></th>\n",
       "      <th>Age</th>\n",
       "      <th>Race</th>\n",
       "      <th>Marital Status</th>\n",
       "      <th>T Stage</th>\n",
       "      <th>N Stage</th>\n",
       "      <th>6th Stage</th>\n",
       "      <th>differentiate</th>\n",
       "      <th>Grade</th>\n",
       "      <th>A Stage</th>\n",
       "      <th>Tumor Size</th>\n",
       "      <th>Estrogen Status</th>\n",
       "      <th>Progesterone Status</th>\n",
       "      <th>Regional Node Examined</th>\n",
       "      <th>Reginol Node Positive</th>\n",
       "      <th>Survival Months</th>\n",
       "      <th>Status</th>\n",
       "    </tr>\n",
       "  </thead>\n",
       "  <tbody>\n",
       "    <tr>\n",
       "      <th>0</th>\n",
       "      <td>68</td>\n",
       "      <td>2</td>\n",
       "      <td>1</td>\n",
       "      <td>0</td>\n",
       "      <td>0</td>\n",
       "      <td>0</td>\n",
       "      <td>1</td>\n",
       "      <td>3</td>\n",
       "      <td>1</td>\n",
       "      <td>4</td>\n",
       "      <td>1</td>\n",
       "      <td>1</td>\n",
       "      <td>24</td>\n",
       "      <td>1</td>\n",
       "      <td>60</td>\n",
       "      <td>0</td>\n",
       "    </tr>\n",
       "    <tr>\n",
       "      <th>1</th>\n",
       "      <td>50</td>\n",
       "      <td>2</td>\n",
       "      <td>1</td>\n",
       "      <td>1</td>\n",
       "      <td>1</td>\n",
       "      <td>2</td>\n",
       "      <td>0</td>\n",
       "      <td>2</td>\n",
       "      <td>1</td>\n",
       "      <td>35</td>\n",
       "      <td>1</td>\n",
       "      <td>1</td>\n",
       "      <td>14</td>\n",
       "      <td>5</td>\n",
       "      <td>62</td>\n",
       "      <td>0</td>\n",
       "    </tr>\n",
       "    <tr>\n",
       "      <th>2</th>\n",
       "      <td>58</td>\n",
       "      <td>2</td>\n",
       "      <td>0</td>\n",
       "      <td>2</td>\n",
       "      <td>2</td>\n",
       "      <td>4</td>\n",
       "      <td>0</td>\n",
       "      <td>2</td>\n",
       "      <td>1</td>\n",
       "      <td>63</td>\n",
       "      <td>1</td>\n",
       "      <td>1</td>\n",
       "      <td>14</td>\n",
       "      <td>7</td>\n",
       "      <td>75</td>\n",
       "      <td>0</td>\n",
       "    </tr>\n",
       "    <tr>\n",
       "      <th>3</th>\n",
       "      <td>58</td>\n",
       "      <td>2</td>\n",
       "      <td>1</td>\n",
       "      <td>0</td>\n",
       "      <td>0</td>\n",
       "      <td>0</td>\n",
       "      <td>1</td>\n",
       "      <td>3</td>\n",
       "      <td>1</td>\n",
       "      <td>18</td>\n",
       "      <td>1</td>\n",
       "      <td>1</td>\n",
       "      <td>2</td>\n",
       "      <td>1</td>\n",
       "      <td>84</td>\n",
       "      <td>0</td>\n",
       "    </tr>\n",
       "    <tr>\n",
       "      <th>4</th>\n",
       "      <td>47</td>\n",
       "      <td>2</td>\n",
       "      <td>1</td>\n",
       "      <td>1</td>\n",
       "      <td>0</td>\n",
       "      <td>1</td>\n",
       "      <td>1</td>\n",
       "      <td>3</td>\n",
       "      <td>1</td>\n",
       "      <td>41</td>\n",
       "      <td>1</td>\n",
       "      <td>1</td>\n",
       "      <td>3</td>\n",
       "      <td>1</td>\n",
       "      <td>50</td>\n",
       "      <td>0</td>\n",
       "    </tr>\n",
       "  </tbody>\n",
       "</table>\n",
       "</div>"
      ],
      "text/plain": [
       "   Age  Race  Marital Status  T Stage   N Stage  6th Stage  differentiate  \\\n",
       "0   68     2               1         0        0          0              1   \n",
       "1   50     2               1         1        1          2              0   \n",
       "2   58     2               0         2        2          4              0   \n",
       "3   58     2               1         0        0          0              1   \n",
       "4   47     2               1         1        0          1              1   \n",
       "\n",
       "   Grade  A Stage  Tumor Size  Estrogen Status  Progesterone Status  \\\n",
       "0      3        1           4                1                    1   \n",
       "1      2        1          35                1                    1   \n",
       "2      2        1          63                1                    1   \n",
       "3      3        1          18                1                    1   \n",
       "4      3        1          41                1                    1   \n",
       "\n",
       "   Regional Node Examined  Reginol Node Positive  Survival Months  Status  \n",
       "0                      24                      1               60       0  \n",
       "1                      14                      5               62       0  \n",
       "2                      14                      7               75       0  \n",
       "3                       2                      1               84       0  \n",
       "4                       3                      1               50       0  "
      ]
     },
     "execution_count": 19,
     "metadata": {},
     "output_type": "execute_result"
    }
   ],
   "source": [
    "category_columns = df.select_dtypes(include=[\"object\", \"string\"]).columns\n",
    "\n",
    "for column in category_columns:\n",
    "    label_encoder = LabelEncoder()\n",
    "    df[column] = label_encoder.fit_transform(df[column])\n",
    "    \n",
    "df.head()"
   ]
  },
  {
   "cell_type": "markdown",
   "metadata": {},
   "source": [
    "### Dropar Colunas"
   ]
  },
  {
   "cell_type": "code",
   "execution_count": 20,
   "metadata": {},
   "outputs": [
    {
     "data": {
      "image/png": "[encoded data removed]",
      "text/plain": [
       "<Figure size 640x480 with 2 Axes>"
      ]
     },
     "metadata": {},
     "output_type": "display_data"
    }
   ],
   "source": [
    "corr = df.corr()\n",
    "sns.heatmap(corr, annot=False, cmap=\"coolwarm\")\n",
    "plt.show()"
   ]
  },
  {
   "cell_type": "markdown",
   "metadata": {},
   "source": [
    "Nenhuma coluna apresentou correlação alta com outra, contudo eliminamos as colunas Race e Marital Status por serem irrelevantes para a classificação."
   ]
  },
  {
   "cell_type": "code",
   "execution_count": 21,
   "metadata": {},
   "outputs": [],
   "source": [
    "columns_to_remove = ['Race', 'Marital Status']\n",
    "df.drop(columns=columns_to_remove, inplace=True)"
   ]
  },
  {
   "cell_type": "markdown",
   "metadata": {},
   "source": [
    "### Separar em Features e labels"
   ]
  },
  {
   "cell_type": "code",
   "execution_count": 22,
   "metadata": {},
   "outputs": [],
   "source": [
    "X, y = df.drop(columns=[\"Status\"]), df[\"Status\"]"
   ]
  },
  {
   "cell_type": "markdown",
   "metadata": {},
   "source": [
    "### Balanceamento de classes"
   ]
  },
  {
   "cell_type": "code",
   "execution_count": 23,
   "metadata": {},
   "outputs": [
    {
     "data": {
      "text/plain": [
       "Status\n",
       "0    0.846918\n",
       "1    0.153082\n",
       "Name: proportion, dtype: float64"
      ]
     },
     "execution_count": 23,
     "metadata": {},
     "output_type": "execute_result"
    }
   ],
   "source": [
    "y.value_counts(normalize=True)"
   ]
  },
  {
   "cell_type": "code",
   "execution_count": 24,
   "metadata": {},
   "outputs": [
    {
     "data": {
      "text/plain": [
       "(Status\n",
       " 0    0.5\n",
       " 1    0.5\n",
       " Name: proportion, dtype: float64,\n",
       " (1232,))"
      ]
     },
     "execution_count": 24,
     "metadata": {},
     "output_type": "execute_result"
    }
   ],
   "source": [
    "rus = RandomUnderSampler(random_state=42)\n",
    "X_res, y_res = rus.fit_resample(X, y)\n",
    "\n",
    "y_res.value_counts(normalize=True), y_res.shape"
   ]
  },
  {
   "cell_type": "markdown",
   "metadata": {},
   "source": [
    "### Separar em treino e teste"
   ]
  },
  {
   "cell_type": "code",
   "execution_count": 25,
   "metadata": {},
   "outputs": [],
   "source": [
    "X_train, X_test, y_train, y_test = train_test_split(X, y, test_size=0.2, random_state=42)\n",
    "X_res_train, X_res_test, y_res_train, y_res_test = train_test_split(X_res, y_res, test_size=0.2,\n",
    "                                                                    random_state=42)"
   ]
  },
  {
   "cell_type": "markdown",
   "metadata": {},
   "source": [
    "### Seleção de parâmetros"
   ]
  },
  {
   "cell_type": "code",
   "execution_count": 26,
   "metadata": {},
   "outputs": [
    {
     "data": {
      "text/plain": [
       "' params = [\\n    {\\'n_estimators\\': [10, 50, 100, 200, 500], \\'criterion\\': [\\'gini\\', \\'entropy\\']},\\n]\\n\\nmodels = [RandomForestClassifier()]\\n\\nfor model, param in zip(models, params):\\n    grid = GridSearchCV(model, param, cv=5, n_jobs=-1)\\n    grid.fit(X_res_train, y_res_train)\\n    print(f\"{model.__class__.__name__} : {grid.best_params_}\") '"
      ]
     },
     "execution_count": 26,
     "metadata": {},
     "output_type": "execute_result"
    }
   ],
   "source": [
    "\"\"\" params = [\n",
    "    {'n_estimators': [10, 50, 100, 200, 500], 'criterion': ['gini', 'entropy']},\n",
    "]\n",
    "\n",
    "models = [RandomForestClassifier()]\n",
    "\n",
    "for model, param in zip(models, params):\n",
    "    grid = GridSearchCV(model, param, cv=5, n_jobs=-1)\n",
    "    grid.fit(X_res_train, y_res_train)\n",
    "    print(f\"{model.__class__.__name__} : {grid.best_params_}\") \"\"\""
   ]
  },
  {
   "cell_type": "markdown",
   "metadata": {},
   "source": [
    "### Treinar os modelos e realizar classificação"
   ]
  },
  {
   "cell_type": "code",
   "execution_count": 27,
   "metadata": {},
   "outputs": [],
   "source": [
    "rf_res = RandomForestClassifier(n_estimators=100, criterion='entropy')\n",
    "rf = RandomForestClassifier(n_estimators=100, criterion='entropy')\n",
    "\n",
    "# Treino dos modelos\n",
    "rf_res.fit(X_res_train, y_res_train)\n",
    "rf.fit(X_train, y_train)\n",
    "\n",
    "# Predição dos modelos\n",
    "predict_rf_res = rf_res.predict(X_res_test)\n",
    "predict_rf = rf.predict(X_test)"
   ]
  },
  {
   "cell_type": "markdown",
   "metadata": {},
   "source": [
    "### Avaliação"
   ]
  },
  {
   "cell_type": "code",
   "execution_count": 28,
   "metadata": {},
   "outputs": [
    {
     "data": {
      "text/html": [
       "<div>\n",
       "<style scoped>\n",
       "    .dataframe tbody tr th:only-of-type {\n",
       "        vertical-align: middle;\n",
       "    }\n",
       "\n",
       "    .dataframe tbody tr th {\n",
       "        vertical-align: top;\n",
       "    }\n",
       "\n",
       "    .dataframe thead th {\n",
       "        text-align: right;\n",
       "    }\n",
       "</style>\n",
       "<table border=\"1\" class=\"dataframe\">\n",
       "  <thead>\n",
       "    <tr style=\"text-align: right;\">\n",
       "      <th></th>\n",
       "      <th>Model</th>\n",
       "      <th>Accuracy</th>\n",
       "      <th>Precision</th>\n",
       "      <th>Recall</th>\n",
       "      <th>F1</th>\n",
       "    </tr>\n",
       "  </thead>\n",
       "  <tbody>\n",
       "    <tr>\n",
       "      <th>0</th>\n",
       "      <td>RF Balanced</td>\n",
       "      <td>77.327935</td>\n",
       "      <td>77.666084</td>\n",
       "      <td>77.029957</td>\n",
       "      <td>77.093270</td>\n",
       "    </tr>\n",
       "    <tr>\n",
       "      <th>1</th>\n",
       "      <td>RF</td>\n",
       "      <td>90.807453</td>\n",
       "      <td>86.436573</td>\n",
       "      <td>73.978102</td>\n",
       "      <td>78.314841</td>\n",
       "    </tr>\n",
       "  </tbody>\n",
       "</table>\n",
       "</div>"
      ],
      "text/plain": [
       "         Model   Accuracy  Precision     Recall         F1\n",
       "0  RF Balanced  77.327935  77.666084  77.029957  77.093270\n",
       "1           RF  90.807453  86.436573  73.978102  78.314841"
      ]
     },
     "execution_count": 28,
     "metadata": {},
     "output_type": "execute_result"
    }
   ],
   "source": [
    "predicts = [predict_rf_res, predict_rf]\n",
    "names = [\"RF Balanced\", \"RF\"]\n",
    "ys = [y_res_test, y_test]\n",
    "\n",
    "accuracies = []\n",
    "precisions = []\n",
    "recalls = []\n",
    "f1s = []\n",
    "\n",
    "for current_y, predict in zip(ys, predicts):\n",
    "    accuracies.append(accuracy_score(current_y, predict) * 100)\n",
    "    precisions.append(precision_score(current_y, predict, average='macro') * 100)\n",
    "    recalls.append(recall_score(current_y, predict, average='macro') * 100)\n",
    "    f1s.append(f1_score(current_y, predict, average='macro') * 100)\n",
    "    \n",
    "metrics = pd.DataFrame({\n",
    "    \"Model\": names,\n",
    "    \"Accuracy\": accuracies,\n",
    "    \"Precision\": precisions,\n",
    "    \"Recall\": recalls,\n",
    "    \"F1\": f1s\n",
    "})\n",
    "\n",
    "metrics"
   ]
  }
 ],
 "metadata": {
  "kernelspec": {
   "display_name": "cepedi",
   "language": "python",
   "name": "python3"
  },
  "language_info": {
   "codemirror_mode": {
    "name": "ipython",
    "version": 3
   },
   "file_extension": ".py",
   "mimetype": "text/x-python",
   "name": "python",
   "nbconvert_exporter": "python",
   "pygments_lexer": "ipython3",
   "version": "3.11.5"
  }
 },
 "nbformat": 4,
 "nbformat_minor": 2
}
