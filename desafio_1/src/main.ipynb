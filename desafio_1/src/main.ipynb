{
 "cells": [
  {
   "cell_type": "markdown",
   "metadata": {},
   "source": [
    "# Projeto prático 1"
   ]
  },
  {
   "cell_type": "markdown",
   "metadata": {},
   "source": [
    "## Importação das bibliotecas necessárias"
   ]
  },
  {
   "cell_type": "code",
   "execution_count": 1,
   "metadata": {},
   "outputs": [],
   "source": [
    "import numpy as np\n",
    "import pandas as pd"
   ]
  },
  {
   "cell_type": "markdown",
   "metadata": {},
   "source": [
    "## Exercício 1"
   ]
  },
  {
   "cell_type": "markdown",
   "metadata": {},
   "source": [
    "Objetivo: Implementar o quicksort e utilizar funções do Numpy na implementação"
   ]
  },
  {
   "cell_type": "markdown",
   "metadata": {},
   "source": [
    "### Função do quicksort"
   ]
  },
  {
   "cell_type": "code",
   "execution_count": 44,
   "metadata": {},
   "outputs": [],
   "source": [
    "def quicksort(arr: np.array) -> np.array:\n",
    "    # Caso base, o array tem tamanho 0 ou 1\n",
    "    if arr.shape[0] <= 1:\n",
    "        return arr\n",
    "    \n",
    "    # Escolhe um pivô como sendo a mediana\n",
    "    pivot = np.median(arr)\n",
    "    \n",
    "    # Divide o array em 3 partes: menores que o pivô, iguais ao pivô e maiores que o pivô\n",
    "    left, middle, right = arr[arr < pivot], arr[arr == pivot], arr[arr > pivot]\n",
    "\n",
    "    return np.concatenate([quicksort(left), middle, quicksort(right)], axis=0)"
   ]
  },
  {
   "cell_type": "markdown",
   "metadata": {},
   "source": [
    "### Testes com o quicksort"
   ]
  },
  {
   "cell_type": "code",
   "execution_count": 45,
   "metadata": {},
   "outputs": [
    {
     "data": {
      "text/plain": [
       "array([1, 1, 2, 4, 4, 6, 6, 7, 9, 9])"
      ]
     },
     "execution_count": 45,
     "metadata": {},
     "output_type": "execute_result"
    }
   ],
   "source": [
    "a = np.random.randint(0, 10, 10)\n",
    "quicksort(a)"
   ]
  },
  {
   "cell_type": "markdown",
   "metadata": {},
   "source": [
    "## Exercício 2"
   ]
  },
  {
   "cell_type": "markdown",
   "metadata": {},
   "source": [
    "Objetivo: Transformar o atributo “gender” em variáveis numéricas usando o Label\n",
    "encoding. "
   ]
  },
  {
   "cell_type": "markdown",
   "metadata": {},
   "source": [
    "### Carregamento e visualização dos dados"
   ]
  },
  {
   "cell_type": "code",
   "execution_count": null,
   "metadata": {},
   "outputs": [
    {
     "data": {
      "text/html": [
       "<div>\n",
       "<style scoped>\n",
       "    .dataframe tbody tr th:only-of-type {\n",
       "        vertical-align: middle;\n",
       "    }\n",
       "\n",
       "    .dataframe tbody tr th {\n",
       "        vertical-align: top;\n",
       "    }\n",
       "\n",
       "    .dataframe thead th {\n",
       "        text-align: right;\n",
       "    }\n",
       "</style>\n",
       "<table border=\"1\" class=\"dataframe\">\n",
       "  <thead>\n",
       "    <tr style=\"text-align: right;\">\n",
       "      <th></th>\n",
       "      <th>Gender</th>\n",
       "      <th>Age</th>\n",
       "      <th>Occupation</th>\n",
       "      <th>Sleep Duration</th>\n",
       "      <th>Quality of Sleep</th>\n",
       "      <th>Physical Activity Level</th>\n",
       "      <th>Stress Level</th>\n",
       "      <th>BMI Category</th>\n",
       "      <th>Blood Pressure</th>\n",
       "      <th>Heart Rate</th>\n",
       "      <th>Daily Steps</th>\n",
       "      <th>Sleep Disorder</th>\n",
       "    </tr>\n",
       "  </thead>\n",
       "  <tbody>\n",
       "    <tr>\n",
       "      <th>0</th>\n",
       "      <td>Male</td>\n",
       "      <td>27</td>\n",
       "      <td>Software Engineer</td>\n",
       "      <td>6.1</td>\n",
       "      <td>6</td>\n",
       "      <td>42</td>\n",
       "      <td>6</td>\n",
       "      <td>Overweight</td>\n",
       "      <td>126/83</td>\n",
       "      <td>77</td>\n",
       "      <td>4200</td>\n",
       "      <td>NaN</td>\n",
       "    </tr>\n",
       "    <tr>\n",
       "      <th>1</th>\n",
       "      <td>Male</td>\n",
       "      <td>28</td>\n",
       "      <td>Doctor</td>\n",
       "      <td>6.2</td>\n",
       "      <td>6</td>\n",
       "      <td>60</td>\n",
       "      <td>8</td>\n",
       "      <td>Normal</td>\n",
       "      <td>125/80</td>\n",
       "      <td>75</td>\n",
       "      <td>10000</td>\n",
       "      <td>NaN</td>\n",
       "    </tr>\n",
       "    <tr>\n",
       "      <th>2</th>\n",
       "      <td>Male</td>\n",
       "      <td>28</td>\n",
       "      <td>Doctor</td>\n",
       "      <td>6.2</td>\n",
       "      <td>6</td>\n",
       "      <td>60</td>\n",
       "      <td>8</td>\n",
       "      <td>Normal</td>\n",
       "      <td>125/80</td>\n",
       "      <td>75</td>\n",
       "      <td>10000</td>\n",
       "      <td>NaN</td>\n",
       "    </tr>\n",
       "    <tr>\n",
       "      <th>3</th>\n",
       "      <td>Male</td>\n",
       "      <td>28</td>\n",
       "      <td>Sales Representative</td>\n",
       "      <td>5.9</td>\n",
       "      <td>4</td>\n",
       "      <td>30</td>\n",
       "      <td>8</td>\n",
       "      <td>Obese</td>\n",
       "      <td>140/90</td>\n",
       "      <td>85</td>\n",
       "      <td>3000</td>\n",
       "      <td>Sleep Apnea</td>\n",
       "    </tr>\n",
       "    <tr>\n",
       "      <th>4</th>\n",
       "      <td>Male</td>\n",
       "      <td>28</td>\n",
       "      <td>Sales Representative</td>\n",
       "      <td>5.9</td>\n",
       "      <td>4</td>\n",
       "      <td>30</td>\n",
       "      <td>8</td>\n",
       "      <td>Obese</td>\n",
       "      <td>140/90</td>\n",
       "      <td>85</td>\n",
       "      <td>3000</td>\n",
       "      <td>Sleep Apnea</td>\n",
       "    </tr>\n",
       "  </tbody>\n",
       "</table>\n",
       "</div>"
      ],
      "text/plain": [
       "  Gender  Age            Occupation  Sleep Duration  Quality of Sleep  \\\n",
       "0   Male   27     Software Engineer             6.1                 6   \n",
       "1   Male   28                Doctor             6.2                 6   \n",
       "2   Male   28                Doctor             6.2                 6   \n",
       "3   Male   28  Sales Representative             5.9                 4   \n",
       "4   Male   28  Sales Representative             5.9                 4   \n",
       "\n",
       "   Physical Activity Level  Stress Level BMI Category Blood Pressure  \\\n",
       "0                       42             6   Overweight         126/83   \n",
       "1                       60             8       Normal         125/80   \n",
       "2                       60             8       Normal         125/80   \n",
       "3                       30             8        Obese         140/90   \n",
       "4                       30             8        Obese         140/90   \n",
       "\n",
       "   Heart Rate  Daily Steps Sleep Disorder  \n",
       "0          77         4200            NaN  \n",
       "1          75        10000            NaN  \n",
       "2          75        10000            NaN  \n",
       "3          85         3000    Sleep Apnea  \n",
       "4          85         3000    Sleep Apnea  "
      ]
     },
     "execution_count": 2,
     "metadata": {},
     "output_type": "execute_result"
    }
   ],
   "source": [
    "df = pd.read_csv('../data/Sleep_health_and_lifestyle_dataset.csv', index_col=0).reset_index(drop=True)\n",
    "df.head()"
   ]
  },
  {
   "cell_type": "code",
   "execution_count": null,
   "metadata": {},
   "outputs": [
    {
     "data": {
      "text/plain": [
       "array(['Male', 'Female'], dtype=object)"
      ]
     },
     "execution_count": 3,
     "metadata": {},
     "output_type": "execute_result"
    }
   ],
   "source": [
    "df['Gender'].unique()"
   ]
  },
  {
   "cell_type": "markdown",
   "metadata": {},
   "source": [
    "### Transformação dos dados da coluna Gender em valores categóricos"
   ]
  },
  {
   "cell_type": "code",
   "execution_count": null,
   "metadata": {},
   "outputs": [
    {
     "data": {
      "text/html": [
       "<div>\n",
       "<style scoped>\n",
       "    .dataframe tbody tr th:only-of-type {\n",
       "        vertical-align: middle;\n",
       "    }\n",
       "\n",
       "    .dataframe tbody tr th {\n",
       "        vertical-align: top;\n",
       "    }\n",
       "\n",
       "    .dataframe thead th {\n",
       "        text-align: right;\n",
       "    }\n",
       "</style>\n",
       "<table border=\"1\" class=\"dataframe\">\n",
       "  <thead>\n",
       "    <tr style=\"text-align: right;\">\n",
       "      <th></th>\n",
       "      <th>Gender</th>\n",
       "      <th>Age</th>\n",
       "      <th>Occupation</th>\n",
       "      <th>Sleep Duration</th>\n",
       "      <th>Quality of Sleep</th>\n",
       "      <th>Physical Activity Level</th>\n",
       "      <th>Stress Level</th>\n",
       "      <th>BMI Category</th>\n",
       "      <th>Blood Pressure</th>\n",
       "      <th>Heart Rate</th>\n",
       "      <th>Daily Steps</th>\n",
       "      <th>Sleep Disorder</th>\n",
       "    </tr>\n",
       "  </thead>\n",
       "  <tbody>\n",
       "    <tr>\n",
       "      <th>0</th>\n",
       "      <td>1</td>\n",
       "      <td>27</td>\n",
       "      <td>Software Engineer</td>\n",
       "      <td>6.1</td>\n",
       "      <td>6</td>\n",
       "      <td>42</td>\n",
       "      <td>6</td>\n",
       "      <td>Overweight</td>\n",
       "      <td>126/83</td>\n",
       "      <td>77</td>\n",
       "      <td>4200</td>\n",
       "      <td>NaN</td>\n",
       "    </tr>\n",
       "    <tr>\n",
       "      <th>1</th>\n",
       "      <td>1</td>\n",
       "      <td>28</td>\n",
       "      <td>Doctor</td>\n",
       "      <td>6.2</td>\n",
       "      <td>6</td>\n",
       "      <td>60</td>\n",
       "      <td>8</td>\n",
       "      <td>Normal</td>\n",
       "      <td>125/80</td>\n",
       "      <td>75</td>\n",
       "      <td>10000</td>\n",
       "      <td>NaN</td>\n",
       "    </tr>\n",
       "    <tr>\n",
       "      <th>2</th>\n",
       "      <td>1</td>\n",
       "      <td>28</td>\n",
       "      <td>Doctor</td>\n",
       "      <td>6.2</td>\n",
       "      <td>6</td>\n",
       "      <td>60</td>\n",
       "      <td>8</td>\n",
       "      <td>Normal</td>\n",
       "      <td>125/80</td>\n",
       "      <td>75</td>\n",
       "      <td>10000</td>\n",
       "      <td>NaN</td>\n",
       "    </tr>\n",
       "    <tr>\n",
       "      <th>3</th>\n",
       "      <td>1</td>\n",
       "      <td>28</td>\n",
       "      <td>Sales Representative</td>\n",
       "      <td>5.9</td>\n",
       "      <td>4</td>\n",
       "      <td>30</td>\n",
       "      <td>8</td>\n",
       "      <td>Obese</td>\n",
       "      <td>140/90</td>\n",
       "      <td>85</td>\n",
       "      <td>3000</td>\n",
       "      <td>Sleep Apnea</td>\n",
       "    </tr>\n",
       "    <tr>\n",
       "      <th>4</th>\n",
       "      <td>1</td>\n",
       "      <td>28</td>\n",
       "      <td>Sales Representative</td>\n",
       "      <td>5.9</td>\n",
       "      <td>4</td>\n",
       "      <td>30</td>\n",
       "      <td>8</td>\n",
       "      <td>Obese</td>\n",
       "      <td>140/90</td>\n",
       "      <td>85</td>\n",
       "      <td>3000</td>\n",
       "      <td>Sleep Apnea</td>\n",
       "    </tr>\n",
       "  </tbody>\n",
       "</table>\n",
       "</div>"
      ],
      "text/plain": [
       "   Gender  Age            Occupation  Sleep Duration  Quality of Sleep  \\\n",
       "0       1   27     Software Engineer             6.1                 6   \n",
       "1       1   28                Doctor             6.2                 6   \n",
       "2       1   28                Doctor             6.2                 6   \n",
       "3       1   28  Sales Representative             5.9                 4   \n",
       "4       1   28  Sales Representative             5.9                 4   \n",
       "\n",
       "   Physical Activity Level  Stress Level BMI Category Blood Pressure  \\\n",
       "0                       42             6   Overweight         126/83   \n",
       "1                       60             8       Normal         125/80   \n",
       "2                       60             8       Normal         125/80   \n",
       "3                       30             8        Obese         140/90   \n",
       "4                       30             8        Obese         140/90   \n",
       "\n",
       "   Heart Rate  Daily Steps Sleep Disorder  \n",
       "0          77         4200            NaN  \n",
       "1          75        10000            NaN  \n",
       "2          75        10000            NaN  \n",
       "3          85         3000    Sleep Apnea  \n",
       "4          85         3000    Sleep Apnea  "
      ]
     },
     "execution_count": 4,
     "metadata": {},
     "output_type": "execute_result"
    }
   ],
   "source": [
    "map_values = {\n",
    "    'Female': 0,\n",
    "    'Male': 1\n",
    "}\n",
    "\n",
    "df_processed = df.copy()\n",
    "df_processed['Gender'] = df_processed['Gender'].map(map_values)\n",
    "df_processed.head()"
   ]
  },
  {
   "cell_type": "markdown",
   "metadata": {},
   "source": [
    "## Exercício 3"
   ]
  },
  {
   "cell_type": "markdown",
   "metadata": {},
   "source": [
    "Objetivo: Calcular determinante de matrizes 3x3"
   ]
  },
  {
   "cell_type": "markdown",
   "metadata": {},
   "source": [
    "### Função para calcular determinante"
   ]
  },
  {
   "cell_type": "code",
   "execution_count": null,
   "metadata": {},
   "outputs": [
    {
     "data": {
      "text/plain": [
       "0"
      ]
     },
     "execution_count": 18,
     "metadata": {},
     "output_type": "execute_result"
    }
   ],
   "source": [
    "def get_matrix_determinant(matrix: np.ndarray[3, 3]) -> int | float:\n",
    "    # Cria a matriz auxiliar com as duas primeiras colunas no final\n",
    "    matrix_aux = np.concatenate((matrix, matrix[:, :2]), axis=1)\n",
    "    \n",
    "    # Cria as listas de índices para as diagonais principais e secundárias\n",
    "    main_indexes = [\n",
    "                [[0, 0], [1, 1], [2, 2]],\n",
    "                [[0, 1], [1, 2], [2, 3]],\n",
    "                [[0, 2], [1, 3], [2, 4]]\n",
    "                ]\n",
    "    secondary_indexes = [\n",
    "                [[0, 2], [1, 1], [2, 0]],\n",
    "                [[0, 3], [1, 2], [2, 1]],\n",
    "                [[0, 4], [1, 3], [2, 2]]\n",
    "                ]\n",
    "    \n",
    "    # Variáveis que armazenarão a soma das diagonais principais e secundárias\n",
    "    sum_main_diagonal = 0\n",
    "    sum_secondary_diagonal = 0\n",
    "    \n",
    "    # Calcula a soma das diagonais principais e secundárias\n",
    "    for main_index, secondary_index in zip(main_indexes, secondary_indexes):\n",
    "        main_diagonal = np.prod([matrix_aux[i, j] for i, j in main_index])\n",
    "        secondary_diagonal = np.prod([matrix_aux[i, j] for i, j in secondary_index])\n",
    "\n",
    "        sum_main_diagonal += main_diagonal\n",
    "        sum_secondary_diagonal += secondary_diagonal\n",
    "\n",
    "    # Calcula o determinante da matriz\n",
    "    matrix_determinant = sum_main_diagonal - sum_secondary_diagonal\n",
    "\n",
    "    return matrix_determinant"
   ]
  },
  {
   "cell_type": "markdown",
   "metadata": {},
   "source": [
    "### Testes da função de calculo de determinante"
   ]
  },
  {
   "cell_type": "code",
   "execution_count": null,
   "metadata": {},
   "outputs": [
    {
     "data": {
      "text/plain": [
       "(130, 129.99999999999997)"
      ]
     },
     "execution_count": 28,
     "metadata": {},
     "output_type": "execute_result"
    }
   ],
   "source": [
    "matrix = np.random.randint(0, 10, size=(3, 3))\n",
    "get_matrix_determinant(matrix), np.linalg.det(matrix)"
   ]
  }
 ],
 "metadata": {
  "kernelspec": {
   "display_name": "base",
   "language": "python",
   "name": "python3"
  },
  "language_info": {
   "codemirror_mode": {
    "name": "ipython",
    "version": 3
   },
   "file_extension": ".py",
   "mimetype": "text/x-python",
   "name": "python",
   "nbconvert_exporter": "python",
   "pygments_lexer": "ipython3",
   "version": "3.11.4"
  }
 },
 "nbformat": 4,
 "nbformat_minor": 2
}
